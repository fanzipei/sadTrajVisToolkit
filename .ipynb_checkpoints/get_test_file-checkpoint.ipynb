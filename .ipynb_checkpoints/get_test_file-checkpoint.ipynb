{
 "cells": [
  {
   "cell_type": "code",
   "execution_count": null,
   "metadata": {},
   "outputs": [],
   "source": [
    "import pandas as pd\n",
    "\n",
    "df = pd.read_csv('../data/loc-gowalla_totalCheckins.txt', sep='\\t', header=None)\n",
    "df.columns = ['uid', 'times', 'lat', 'lon', 'temp']\n",
    "df['times'] = pd.to_datetime(df['times'])\n",
    "df = df[(df['times'] >= '2010-10-16') & (df['times'] < '2010-10-17')]\n",
    "uid_counts = df['uid'].value_counts()\n",
    "uid_set = set(uid_counts[uid_counts > 100].index)\n",
    "df = df[df['uid'].isin(uid_set)]\n",
    "df.drop(['temp'], axis=1, inplace=True)\n",
    "\n",
    "df.to_csv('test.csv', index=None, sep=',')"
   ]
  }
 ],
 "metadata": {
  "kernelspec": {
   "display_name": "Python 3",
   "language": "python",
   "name": "python3"
  },
  "language_info": {
   "codemirror_mode": {
    "name": "ipython",
    "version": 3
   },
   "file_extension": ".py",
   "mimetype": "text/x-python",
   "name": "python",
   "nbconvert_exporter": "python",
   "pygments_lexer": "ipython3",
   "version": "3.7.3"
  }
 },
 "nbformat": 4,
 "nbformat_minor": 2
}
